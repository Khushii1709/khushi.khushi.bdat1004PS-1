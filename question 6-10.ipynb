{
 "cells": [
  {
   "cell_type": "code",
   "execution_count": 6,
   "id": "2fbff064",
   "metadata": {},
   "outputs": [
    {
     "name": "stdout",
     "output_type": "stream",
     "text": [
      "appyhay\n",
      "enterway\n"
     ]
    }
   ],
   "source": [
    "#Question :--6\n",
    "    \n",
    "def pig(s):\n",
    "    a= s.lower()\n",
    "    x=a[0]\n",
    "    if(x in \"aeiou\"):\n",
    "        return (a+\"way\")\n",
    "    else:\n",
    "        return (a[1:]+a[0]+\"ay\")\n",
    "print(pig(\"happy\"))\n",
    "print(pig(\"Enter\"))\n",
    "\n"
   ]
  },
  {
   "cell_type": "code",
   "execution_count": 8,
   "id": "1c69a145",
   "metadata": {},
   "outputs": [
    {
     "name": "stdout",
     "output_type": "stream",
     "text": [
      "There are 15 patient of bloood type A\n",
      "There are 1 patient of bloood type B\n",
      "There are 13 patient of bloood type AB\n",
      "There are 15 patient of bloood type O\n",
      "There are 0 patient of bloood type OO\n"
     ]
    }
   ],
   "source": [
    "#     question :7 \n",
    "    \n",
    "    \n",
    "def bldcount(filepath):\n",
    "    with open(filepath) as file:\n",
    "        text = file.read()\n",
    "        arr=text.split()\n",
    "        elements= [x.strip() for x in arr]\n",
    "        print(f\"There are {elements.count('A') if elements.count('A') !=0 else 0} patient of bloood type A\")\n",
    "        print(f\"There are {elements.count('B') if elements.count('B') !=0 else 0} patient of bloood type B\")\n",
    "        print(f\"There are {elements.count('AB') if elements.count('AB') !=0 else 0} patient of bloood type AB\")\n",
    "        print(f\"There are {elements.count('O') if elements.count('O') !=0 else 0} patient of bloood type O\")\n",
    "        print(f\"There are {elements.count('OO') if elements.count('OO') !=0 else 0} patient of bloood type OO\")\n",
    "bldcount('bloodtype1.txt')"
   ]
  },
  {
   "cell_type": "code",
   "execution_count": 11,
   "id": "324e0cec",
   "metadata": {},
   "outputs": [
    {
     "name": "stdout",
     "output_type": "stream",
     "text": [
      "Converted amount for EUR: 122.96544\n",
      "Converted amount for JPY: 1.241401\n"
     ]
    }
   ],
   "source": [
    "#question:-8\n",
    "\n",
    "def curConv(Currency, value):\n",
    "    f = open(\"currencies.txt\")\n",
    "    lines = f.readlines()\n",
    "    for line in lines:\n",
    "        s = line.strip().split('\\t')\n",
    "        code = s[0]\n",
    "        convFactor = float(s[1])\n",
    "        name = s[2]\n",
    "        \n",
    "        if Currency == code:\n",
    "            return value * convFactor\n",
    "    \n",
    "print(\"Converted amount for EUR:\", curConv('EUR', 100))\n",
    "print(\"Converted amount for JPY:\", curConv('JPY', 100))\n",
    "\n",
    "\n"
   ]
  },
  {
   "cell_type": "markdown",
   "id": "f67baa8b",
   "metadata": {},
   "source": [
    "### Question 9:-\n",
    "\n",
    "#### Trying to add incompatible variables, as in adding 6 + ‘a’ \t--  TypeError\n",
    "#### Referring to the 12th item of a list that has only 10 items   --\tIndexError\n",
    "#### Using a value that is out of range for a function’s input, such as calling math.sqrt(-1.0) \t--  ValueError\n",
    "#### Using an undeclared variable, such as print(x) when x has not been defined \t--  NameError\n",
    "#### Trying to open a file that does not exist, such as mistyping the file name or looking in the wrong directory. \t--  IOError"
   ]
  },
  {
   "cell_type": "code",
   "execution_count": 12,
   "id": "dab5bac4",
   "metadata": {},
   "outputs": [
    {
     "data": {
      "text/plain": [
       "[1, 1, 1, 3, 5, 1, 1, 2, 1, 0, 1, 0, 1, 2, 4, 0, 1, 2, 0, 2, 1, 0, 1, 1, 0, 0]"
      ]
     },
     "execution_count": 12,
     "metadata": {},
     "output_type": "execute_result"
    }
   ],
   "source": [
    "#question 10\n",
    "\n",
    "def frequencies(s):\n",
    "    freqs = [0] * 26\n",
    "    order = 'abcdefghijklmnopqrstuvwxyz'\n",
    "    for char in s:\n",
    "        if char >= 'a' and char <= 'z':\n",
    "            index = order.index(char)\n",
    "            freqs[index] += 1\n",
    "    return freqs\n",
    "            \n",
    "\n",
    "frequencies('The quick red fox got bored and went home.')\n",
    "\n"
   ]
  },
  {
   "cell_type": "code",
   "execution_count": null,
   "id": "97c0a804",
   "metadata": {},
   "outputs": [],
   "source": []
  }
 ],
 "metadata": {
  "kernelspec": {
   "display_name": "Python 3 (ipykernel)",
   "language": "python",
   "name": "python3"
  },
  "language_info": {
   "codemirror_mode": {
    "name": "ipython",
    "version": 3
   },
   "file_extension": ".py",
   "mimetype": "text/x-python",
   "name": "python",
   "nbconvert_exporter": "python",
   "pygments_lexer": "ipython3",
   "version": "3.9.13"
  }
 },
 "nbformat": 4,
 "nbformat_minor": 5
}
