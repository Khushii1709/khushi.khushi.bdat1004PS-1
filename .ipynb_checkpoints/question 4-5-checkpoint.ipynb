{
 "cells": [
  {
   "cell_type": "code",
   "execution_count": 1,
   "id": "f54f5c94",
   "metadata": {},
   "outputs": [],
   "source": [
    "//Question:4:-Write a program in C# Sharp to separate odd and even integers in separate arrays.\n",
    "\n",
    "\n",
    "public class OddEven//public class OddEven\n",
    "{\n",
    "    static void Main(string[] args)//main method\n",
    "    {\n",
    "        //Console.Write(\"Input the number of elements to be stored in the array: \");/* asking for array length input from user */\n",
    "        //int total = Convert.ToInt32(Console.ReadLine());/* taking input from user and convert into Int32 */ \n",
    "        //Console.WriteLine(\"Input \"+total+\" elements in the array : \");/* asking array element input from user */\n",
    "        //int[] array = new int[total];/* declaring array */\n",
    "        //for(int i=0;i<total;i++)/* iterating loop from  to total number of element in array*/\n",
    "        //{\n",
    "        //    Console.Write(\"element - \"+i+\" : \");/* asking for input */\n",
    "        //    array[i] = Convert.ToInt32(Console.ReadLine());/* taking input from user */\n",
    "        //}\n",
    "        int[] array = {25,47,42}\n",
    "        int[] odd = new int[total];/* declaring odd array */\n",
    "        int[] even = new int[total];/* declaring even array */\n",
    "\n",
    "        int j = 0;/* declared for loop iteration */\n",
    "        for(int i=0;i<total;i++)/* iterating loop from  to total number of element in array*/\n",
    "        {\n",
    "            if(array[i]%2 == 0)/* checking if element is even or not */\n",
    "            {\n",
    "                even[j++] = array[i];//then add into even array\n",
    "            }\n",
    "        }\n",
    "        Console.WriteLine(\"\\nThe Even elements are : \");/* printing Even elements */  \n",
    "        for(int i=0;i<j;i++)/* iterating loop from  to total number of element in array*/\n",
    "        {\n",
    "            Console.Write(even[i] + \"  \");/*  print out elements of Even */\n",
    "\n",
    "        }\n",
    "        j = 0;/* reassign for loop iteration */\n",
    "        for(int i=0;i<total;i++)/* iterating loop from  to total number of element in array*/\n",
    "        {\n",
    "            if(array[i]%2 != 0)/* checking if element is odd or not */\n",
    "            {\n",
    "                odd[j++] = array[i];//then add into odd array\n",
    "            }\n",
    "        }\n",
    "        Console.WriteLine(\"\\nThe Odd elements are : \");/* printing Odd elements */\n",
    "        for(int i=0;i<j;i++)/* iterating loop from  to total number of element in array*/\n",
    "        {\n",
    "            Console.Write(odd[i] + \"  \");/* print out element */\n",
    "        }\n",
    "    }\n",
    "}\n"
   ]
  },
  {
   "cell_type": "code",
   "execution_count": 4,
   "id": "0d2845c4",
   "metadata": {},
   "outputs": [
    {
     "name": "stdout",
     "output_type": "stream",
     "text": [
      "Given statement is: False\r\n"
     ]
    }
   ],
   "source": [
    "//Question 5 C# a. Write a function inside(x,y,x1,y1,x2,y2) that returns True or False depending on whether the point (x,y) lies in the rectangle with lower left\n",
    "//corner (x1,y1) and upper right corner (x2,y2).>>> inside(1,1,0,0,2,3)True >>> inside(-1,-1,0,0,2,3)False\n",
    "\n",
    "static Boolean inside(int x, int y, int x1, int y1, int x2, int y2)\n",
    "{\n",
    "    if (x>=x1 && x<=x2 && y>=y1 && y<=y2)\n",
    "    {\n",
    "        return true;\n",
    "    }\n",
    "    else\n",
    "    {\n",
    "        return false;\n",
    "    }\n",
    "}\n",
    "Boolean statement = inside(-1,1,0,0,2,3);\n",
    "Console.WriteLine(\"Given statement is: \"+statement); \n",
    "\n"
   ]
  },
  {
   "cell_type": "code",
   "execution_count": 5,
   "id": "1380e9d7",
   "metadata": {},
   "outputs": [
    {
     "name": "stdout",
     "output_type": "stream",
     "text": [
      "Given condition is: False\r\n"
     ]
    }
   ],
   "source": [
    "//Question 5(b)\n",
    "\n",
    "static Boolean inside(double x, double y, double x1, double y1, double x2, double y2, double x3, double y3, double x4, double y4)\n",
    "{\n",
    "    if (x >= x1 && x <= x2 && y >= y1 && y <= y2 && x >= x3 && x <= x4 && y >= y3 && y <= y4)\n",
    "    {\n",
    "        return true;\n",
    "    }\n",
    "    {\n",
    "        return false;\n",
    "    }\n",
    "}\n",
    "Boolean points = inside(1.0, 1.0, 0.3, 0.5, 1.1, 0.7, 0.5, 0.2, 1.1, 2.0);\n",
    "Console.WriteLine(\"Given condition is: \"+points);\n"
   ]
  },
  {
   "cell_type": "code",
   "execution_count": null,
   "id": "d0e3539d",
   "metadata": {},
   "outputs": [],
   "source": []
  }
 ],
 "metadata": {
  "kernelspec": {
   "display_name": ".NET (C#)",
   "language": "C#",
   "name": ".net-csharp"
  },
  "language_info": {
   "file_extension": ".cs",
   "mimetype": "text/x-csharp",
   "name": "C#",
   "pygments_lexer": "csharp",
   "version": "8.0"
  }
 },
 "nbformat": 4,
 "nbformat_minor": 5
}
