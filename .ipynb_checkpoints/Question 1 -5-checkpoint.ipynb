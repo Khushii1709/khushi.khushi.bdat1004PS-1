{
 "cells": [
  {
   "cell_type": "code",
   "execution_count": 3,
   "id": "ba89d534",
   "metadata": {},
   "outputs": [],
   "source": [
    "Problem Set:1\n",
    "Student id:200513507\n",
    "\n",
    "//What data type is each of the following?\n",
    "//5\n",
    "//5.0\n",
    "//5 > 1\n",
    "//'5'\n",
    "//5 * 2\n",
    "//'5' * 2\n",
    "//'5' + '2'\n",
    "//5 / 2\n",
    "//5 % 2\n",
    "//{5, 2, 1}\n",
    "//5 == 3\n",
    "//Pi (the number)    \n",
    "    \n",
    "Solution:-\n",
    "    \n",
    "5              //Integer type .\n",
    "5.0            //float .\n",
    "5 > 1          //Comparison Operators - greater than operator.\n",
    "'5'            // char  \n",
    "5 * 2          //Integer type . \n",
    "'5' * 2        // char\n",
    "'5' + '2'      //String\n",
    "5 / 2          //float type .\n",
    "5 % 2          //integer type . \n",
    "{ 5, 2, 1}     //Enumerated type \n",
    "5 == 3         //Comparison Operators - Equal to .\n",
    "Pi(the number) //float type .\n",
    "    "
   ]
  },
  {
   "cell_type": "code",
   "execution_count": 8,
   "id": "e40af74a",
   "metadata": {},
   "outputs": [
    {
     "name": "stdout",
     "output_type": "stream",
     "text": [
      "There are 34 letters in str1\r\n"
     ]
    }
   ],
   "source": [
    "//Question 2//Write (and evaluate) C# expressions that answer these questions:\n",
    "//2a:- How many letters are there in 'Supercalifragilisticexpialidocious'?\n",
    "\n",
    "\n",
    "using System;\n",
    "using System.Collections.Generic;\n",
    "\n",
    "string str1 = \"Supercalifragilisticexpialidocious\";\n",
    "Console.WriteLine(\"There are {0} letters in str1\", str1.Length);"
   ]
  },
  {
   "cell_type": "code",
   "execution_count": 9,
   "id": "411bdd59",
   "metadata": {},
   "outputs": [
    {
     "name": "stdout",
     "output_type": "stream",
     "text": [
      "The value of str3 is in str2 = True\r\n"
     ]
    }
   ],
   "source": [
    "//question 2b:-Does 'Supercalifragilisticexpialidocious' contain 'ice' as a substring?\n",
    "\n",
    "string str2 = \"Supercalifragilisticexpialidocious\"; \n",
    "string str3 = \"ice\";\n",
    "\n",
    "Console.WriteLine(\"The value of str3 is in str2 = {0}\", str2.Contains(str3));"
   ]
  },
  {
   "cell_type": "code",
   "execution_count": 11,
   "id": "2162274e",
   "metadata": {
    "scrolled": true
   },
   "outputs": [
    {
     "name": "stdout",
     "output_type": "stream",
     "text": [
      "The longgest word is = Supercalifragilisticexpialidocious\r\n"
     ]
    }
   ],
   "source": [
    "//question 2c:- Which of the following words is the longest:\n",
    "//Supercalifragilisticexpialidocious, Honorificabilitudinitatibus, or\n",
    "//Bababadalgharaghtakamminarronnkonn?\n",
    "\n",
    "string str4 = \"Supercalifragilisticexpialidocious\";\n",
    "string str5 = \"Honorificabilitudinitatibus\";\n",
    "string str6 = \"Bababadalgharaghtakamminarronnkonn\";\n",
    "\n",
    "if ((str4.Length>=str5.Length) && (str4.Length>=str6.Length))\n",
    "    Console.WriteLine(\"The longgest word is = {0}\", str4);  \n",
    "                \n",
    "else if (str5.Length >= str6.Length)\n",
    "    Console.WriteLine(\"The longgest word is = {0}\", str5);\n",
    "else\n",
    "    Console.WriteLine(\"The longgest word is = {0}\", str6)\n",
    "\n",
    ";\n"
   ]
  },
  {
   "cell_type": "code",
   "execution_count": 10,
   "id": "90aff1ee",
   "metadata": {},
   "outputs": [
    {
     "name": "stdout",
     "output_type": "stream",
     "text": [
      "Bartok\n",
      "Bellini\n",
      "Berlioz\n",
      "Bernstein\n",
      "Borodin\n",
      "Brian\n",
      "Buxtehude\r\n"
     ]
    }
   ],
   "source": [
    "//question 2d:- Which composer comes first in the dictionary: 'Berlioz', 'Borodin', 'Brian',\n",
    "//'Bartok', 'Bellini', 'Buxtehude', 'Bernstein'. Which one comes last?\n",
    "\n",
    "var MyList = new List<string>();\n",
    "\n",
    "MyList.Add(\"Berlioz\");\n",
    "MyList.Add(\"Borodin\");\n",
    "MyList.Add(\"Brian\");\n",
    "MyList.Add(\"Bartok\");\n",
    "MyList.Add(\"Bellini\");\n",
    "MyList.Add(\"Buxtehude\");\n",
    "MyList.Add(\"Bernstein\");\n",
    "\n",
    "MyList.Sort();\n",
    "Console.WriteLine(string.Join(\"\\n\", \n",
    "\n",
    "MyList));"
   ]
  },
  {
   "cell_type": "code",
   "execution_count": 12,
   "id": "639d1360",
   "metadata": {},
   "outputs": [
    {
     "name": "stdout",
     "output_type": "stream",
     "text": [
      "1.7320508075688772\r\n"
     ]
    }
   ],
   "source": [
    "// Question:3:-Implement function triangleArea(a,b,c) that takes as input the lengths of the 3 sides of a triangle and returns the area of the triangle. By Heron's formula, the area\n",
    "//of a triangle with side lengths a, b, and c is s(s − a)(s − b)(s − c), where s = (a + b + c)/2.>>> triangleArea(2,2,2)\n",
    "//1.7320508075688772\n",
    "\n",
    "static void triangleArea(int a, int b,int c) \n",
    "{\n",
    "  double s = (a+b+c)/2;\n",
    "  Console.WriteLine (Math.Sqrt(s*(s-a*(s-b*(s-c)))));\n",
    "}\n",
    "\n",
    "triangleArea(2,2,2);\n",
    "\n"
   ]
  },
  {
   "cell_type": "code",
   "execution_count": 1,
   "id": "60b87205",
   "metadata": {},
   "outputs": [
    {
     "name": "stdout",
     "output_type": "stream",
     "text": [
      "\n",
      "The Even elements are : \n",
      "42  56  32  \n",
      "The Odd elements are : \n",
      "25  47  "
     ]
    }
   ],
   "source": [
    "//Quesiton 4\n",
    "\n",
    "         int[] array = {25,47,42,56,32};\n",
    "        int[] odd = new int[5];/* declaring odd array */\n",
    "        int[] even = new int[5];/* declaring even array */\n",
    "\n",
    "        int j = 0;/* declared for loop iteration */\n",
    "        for(int i=0;i<5;i++)/* iterating loop from  to total number of element in array*/\n",
    "        {\n",
    "            if(array[i]%2 == 0)/* checking if element is even or not */\n",
    "            {\n",
    "                even[j++] = array[i];//then add into even array\n",
    "            }\n",
    "        }\n",
    "        Console.WriteLine(\"\\nThe Even elements are : \");/* printing Even elements */  \n",
    "        for(int i=0;i<j;i++)/* iterating loop from  to total number of element in array*/\n",
    "        {\n",
    "            Console.Write(even[i] + \"  \");/*  print out elements of Even */\n",
    "\n",
    "        }\n",
    "        j = 0;/* reassign for loop iteration */\n",
    "        for(int i=0;i<5;i++)/* iterating loop from  to total number of element in array*/\n",
    "        {\n",
    "            if(array[i]%2 != 0)/* checking if element is odd or not */\n",
    "            {\n",
    "                odd[j++] = array[i];//then add into odd array\n",
    "            }\n",
    "        }\n",
    "        Console.WriteLine(\"\\nThe Odd elements are : \");/* printing Odd elements */\n",
    "        for(int i=0;i<j;i++)/* iterating loop from  to total number of element in array*/\n",
    "        {\n",
    "            Console.Write(odd[i] + \"  \");/* print out element */\n",
    "        }\n",
    "    \n"
   ]
  },
  {
   "cell_type": "code",
   "execution_count": 2,
   "id": "1438f9b2",
   "metadata": {},
   "outputs": [
    {
     "name": "stdout",
     "output_type": "stream",
     "text": [
      "Given statement is: True\r\n"
     ]
    }
   ],
   "source": [
    "//Question 5 C# a. Write a function inside(x,y,x1,y1,x2,y2) that returns True or False depending on whether the point (x,y) lies in the rectangle with lower left\n",
    "//corner (x1,y1) and upper right corner (x2,y2).>>> inside(1,1,0,0,2,3)True >>> inside(-1,-1,0,0,2,3)False\n",
    "\n",
    "static Boolean inside(int x, int y, int x1, int y1, int x2, int y2)\n",
    "{\n",
    "    if (x>=x1 && x<=x2 && y>=y1 && y<=y2)\n",
    "    {\n",
    "        return true;\n",
    "    }\n",
    "    else\n",
    "    {\n",
    "        return false;\n",
    "    }\n",
    "}\n",
    "Boolean statement = inside(1,1,0,0,2,3);\n",
    "Console.WriteLine(\"Given statement is: \"+statement); \n"
   ]
  },
  {
   "cell_type": "code",
   "execution_count": 3,
   "id": "a474847f",
   "metadata": {},
   "outputs": [
    {
     "name": "stdout",
     "output_type": "stream",
     "text": [
      "Given condition is: False\r\n"
     ]
    }
   ],
   "source": [
    "//Question 5(b)\n",
    "\n",
    "static Boolean inside(double x, double y, double x1, double y1, double x2, double y2, double x3, double y3, double x4, double y4)\n",
    "{\n",
    "    if (x >= x1 && x <= x2 && y >= y1 && y <= y2 && x >= x3 && x <= x4 && y >= y3 && y <= y4)\n",
    "    {\n",
    "        return true;\n",
    "    }\n",
    "    {\n",
    "        return false;\n",
    "    }\n",
    "}\n",
    "Boolean points = inside(1.0, 1.0, 0.3, 0.5, 1.1, 0.7, 0.5, 0.2, 1.1, 2.0);\n",
    "Console.WriteLine(\"Given condition is: \"+points);\n"
   ]
  },
  {
   "cell_type": "code",
   "execution_count": null,
   "id": "d88d3449",
   "metadata": {},
   "outputs": [],
   "source": []
  }
 ],
 "metadata": {
  "kernelspec": {
   "display_name": ".NET (C#)",
   "language": "C#",
   "name": ".net-csharp"
  },
  "language_info": {
   "file_extension": ".cs",
   "mimetype": "text/x-csharp",
   "name": "C#",
   "pygments_lexer": "csharp",
   "version": "8.0"
  }
 },
 "nbformat": 4,
 "nbformat_minor": 5
}
